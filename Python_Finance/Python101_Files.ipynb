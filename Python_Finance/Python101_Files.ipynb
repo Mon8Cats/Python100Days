{
 "cells": [
  {
   "cell_type": "markdown",
   "metadata": {},
   "source": [
    "# 1. Test Files"
   ]
  },
  {
   "cell_type": "code",
   "execution_count": 7,
   "metadata": {},
   "outputs": [
    {
     "name": "stdout",
     "output_type": "stream",
     "text": [
      "I am learning python now!\n",
      "It is super fun to learn Python programming \n",
      "I am learning how to handle files in python!this is a new line that I added to the file\n"
     ]
    }
   ],
   "source": [
    "f = open('sample_text_file.txt', 'r')\n",
    "print(f.read())"
   ]
  },
  {
   "cell_type": "code",
   "execution_count": 8,
   "metadata": {},
   "outputs": [
    {
     "name": "stdout",
     "output_type": "stream",
     "text": [
      "I am learning python now!\n",
      "\n"
     ]
    }
   ],
   "source": [
    "f = open('sample_text_file.txt', 'r')\n",
    "print(f.readline())"
   ]
  },
  {
   "cell_type": "code",
   "execution_count": 16,
   "metadata": {},
   "outputs": [],
   "source": [
    "f = open('sample_text_file.txt', 'a')\n",
    "f.write('this is a new line that I added to the file')\n",
    "f.close()"
   ]
  },
  {
   "cell_type": "code",
   "execution_count": 12,
   "metadata": {},
   "outputs": [
    {
     "data": {
      "text/plain": [
       "['I am learning python now!\\n',\n",
       " 'It is super fun to learn Python programming \\n',\n",
       " 'I am learning how to handle files in python!this is a new line that I added to the file']"
      ]
     },
     "execution_count": 12,
     "metadata": {},
     "output_type": "execute_result"
    }
   ],
   "source": [
    "with open('sample_text_file.txt', 'r') as f:\n",
    "    text_data = f.readlines()\n",
    "text_data"
   ]
  },
  {
   "cell_type": "code",
   "execution_count": 15,
   "metadata": {},
   "outputs": [
    {
     "name": "stdout",
     "output_type": "stream",
     "text": [
      "['I', 'am', 'learning', 'python', 'now!']\n",
      "['It', 'is', 'super', 'fun', 'to', 'learn', 'Python', 'programming']\n",
      "['I', 'am', 'learning', 'how', 'to', 'handle', 'files', 'in', 'python!this', 'is', 'a', 'new', 'line', 'that', 'I', 'added', 'to', 'the', 'file']\n"
     ]
    }
   ],
   "source": [
    "for line in text_data:\n",
    "    words = line.split()\n",
    "    print(words)"
   ]
  },
  {
   "cell_type": "markdown",
   "metadata": {},
   "source": [
    "### Minichallenge #1:\n",
    "* Read the file 'fruits_input.txt'\n",
    "* compare the text file content with the list"
   ]
  },
  {
   "cell_type": "code",
   "execution_count": 24,
   "metadata": {},
   "outputs": [
    {
     "name": "stdout",
     "output_type": "stream",
     "text": [
      "['Apple', 'Watermelon', 'Orange']\n"
     ]
    }
   ],
   "source": [
    "with open('fruits_input.txt', 'r') as f:\n",
    "    all_fruits = f.readlines()\n",
    "    #print(fruits)\n",
    "    \n",
    "all_fruits = [item.rstrip('\\n') for item in all_fruits]    \n",
    "#print(all_fruits)\n",
    "    \n",
    "my_fruits = [\"Apple\", \"Pepper\", \"Orange\", \"Watermelon\", \"Tomatoes\"]\n",
    "\n",
    "#for fruit in my_fruits:\n",
    "#    print(f'is {fruit} included? {fruit in all_fruits}')\n",
    "\n",
    "selected_fruits = [fruit for fruit in all_fruits if fruit in my_fruits]\n",
    "print(selected_fruits)"
   ]
  },
  {
   "cell_type": "markdown",
   "metadata": {},
   "source": [
    "# 2. CSV Files"
   ]
  },
  {
   "cell_type": "code",
   "execution_count": 25,
   "metadata": {},
   "outputs": [
    {
     "data": {
      "text/plain": [
       "[['first', ' last', ' email', ' postal', ' gender', ' dollar'],\n",
       " ['Joseph', 'Patton', 'daafeja@boh.jm', 'M6U 5U7', 'Male', '$2,629.13 '],\n",
       " ['Noah', 'Moran', 'guutodi@bigwoc.kw', 'K2D 4M9', 'Male', '$8,626.96 '],\n",
       " ['Nina', 'Keller', 'azikez@gahew.mr', 'S1T 4E6', 'Male', '$9,072.02 ']]"
      ]
     },
     "execution_count": 25,
     "metadata": {},
     "output_type": "execute_result"
    }
   ],
   "source": [
    "import csv\n",
    "with open('sample_csv_file.csv') as f:\n",
    "    readCSV = csv.reader(f, delimiter = ',')\n",
    "    data = list(readCSV)\n",
    "data"
   ]
  },
  {
   "cell_type": "code",
   "execution_count": 27,
   "metadata": {},
   "outputs": [
    {
     "data": {
      "text/plain": [
       "['Joseph', 'Patton', 'daafeja@boh.jm', 'M6U 5U7', 'Male', '$2,629.13 ']"
      ]
     },
     "execution_count": 27,
     "metadata": {},
     "output_type": "execute_result"
    }
   ],
   "source": [
    "#data[0]\n",
    "data[1]"
   ]
  },
  {
   "cell_type": "code",
   "execution_count": 33,
   "metadata": {},
   "outputs": [
    {
     "data": {
      "text/plain": [
       "['Joseph Patton', 'Noah Moran', 'Nina Keller']"
      ]
     },
     "execution_count": 33,
     "metadata": {},
     "output_type": "execute_result"
    }
   ],
   "source": [
    "full_names = [ row[0] + ' ' + row[1] for row in data[1:]]\n",
    "full_names"
   ]
  },
  {
   "cell_type": "markdown",
   "metadata": {},
   "source": [
    "### Mini Challenge #2:\n",
    "* Read the CSV file\n",
    "* Print out the first 5 rows"
   ]
  },
  {
   "cell_type": "code",
   "execution_count": 39,
   "metadata": {},
   "outputs": [
    {
     "data": {
      "text/plain": [
       "['Interest Rates', 'Employment', 'S&P 500 Price']"
      ]
     },
     "execution_count": 39,
     "metadata": {},
     "output_type": "execute_result"
    }
   ],
   "source": [
    "with open('S_P500_Stock_Data.csv', 'r') as f:\n",
    "    readCSV = csv.reader(f, delimiter=(','))\n",
    "    data = list(readCSV)\n",
    "data[0]"
   ]
  },
  {
   "cell_type": "code",
   "execution_count": 40,
   "metadata": {},
   "outputs": [
    {
     "data": {
      "text/plain": [
       "[['1.943859273', '55.41357113', '2206.680582'],\n",
       " ['2.258228944', '59.54630512', '2486.474488'],\n",
       " ['2.215862783', '57.41468676', '2405.868337'],\n",
       " ['1.977959542', '49.90835272', '2140.434475'],\n",
       " ['2.437722808', '52.03549192', '2411.275663']]"
      ]
     },
     "execution_count": 40,
     "metadata": {},
     "output_type": "execute_result"
    }
   ],
   "source": [
    "data[1:6]"
   ]
  },
  {
   "cell_type": "code",
   "execution_count": null,
   "metadata": {},
   "outputs": [],
   "source": []
  }
 ],
 "metadata": {
  "kernelspec": {
   "display_name": "Python 3",
   "language": "python",
   "name": "python3"
  },
  "language_info": {
   "codemirror_mode": {
    "name": "ipython",
    "version": 3
   },
   "file_extension": ".py",
   "mimetype": "text/x-python",
   "name": "python",
   "nbconvert_exporter": "python",
   "pygments_lexer": "ipython3",
   "version": "3.8.5"
  }
 },
 "nbformat": 4,
 "nbformat_minor": 4
}
